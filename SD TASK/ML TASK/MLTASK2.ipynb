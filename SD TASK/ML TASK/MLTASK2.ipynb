{
  "nbformat": 4,
  "nbformat_minor": 0,
  "metadata": {
    "colab": {
      "provenance": []
    },
    "kernelspec": {
      "name": "python3",
      "display_name": "Python 3"
    },
    "language_info": {
      "name": "python"
    }
  },
  "cells": [
    {
      "cell_type": "markdown",
      "source": [
        "**MACHINE LEARNING TASK**  \n",
        "\n",
        "SUBMITTED BY - NANDAKISHORE B"
      ],
      "metadata": {
        "id": "0iTnzMVdR22U"
      }
    },
    {
      "cell_type": "code",
      "source": [
        "# This project focuses on building a multimodal document classification system by combining both visual and textual features.\n",
        "# The dataset contained scanned TIF images organized into class folders, each with an OCR text file. I began by preprocessing\n",
        "# images to extract features such as mean and standard deviation of pixel intensity, histogram distributions, edge density,\n",
        "# texture density, and aspect ratio. OCR text was processed using TF-IDF vectorization with bigram support. Labels were encoded,\n",
        "# image features scaled, and the dataset split into balanced training and test sets. I trained a Random Forest classifier for\n",
        "# image features and a Logistic Regression model for text features, then combined their outputs using weighted probability\n",
        "# averaging (0.6 image, 0.4 text) to create an ensemble model. Performance was measured with accuracy, precision, recall,\n",
        "# F1-score, confusion matrices, and cross-validation. Results showed the text model performed best (~82% accuracy), followed by\n",
        "# the ensemble (~78%) and image model (~64%). All trained models, preprocessing tools, and configurations were saved, and a\n",
        "# prediction function was implemented for new documents. Challenges included handling empty OCR files, the imbalance between\n",
        "# image and text feature dimensions, and long feature extraction times. Given more time, I would implement deep learning for\n",
        "# images, transformer-based NLP for text, optimized ensemble weights, data augmentation, and more detailed error analysis.\n"
      ],
      "metadata": {
        "id": "mcu3qft9pKFa"
      },
      "execution_count": null,
      "outputs": []
    },
    {
      "cell_type": "code",
      "source": [
        "# CELL 1: Setup and Installations\n",
        "# Run this cell first to install required packages and setup environment\n",
        "\n",
        "!pip install scikit-learn opencv-python pillow matplotlib seaborn plotly joblib\n",
        "!pip install shap  # For model interpretability (optional)\n",
        "\n",
        "print(\"✅ All packages installed successfully!\")"
      ],
      "metadata": {
        "colab": {
          "base_uri": "https://localhost:8080/"
        },
        "id": "2Qu3voSQp4d3",
        "outputId": "822ae699-ea2b-4aa3-b4b7-50e50def2d6b"
      },
      "execution_count": null,
      "outputs": [
        {
          "output_type": "stream",
          "name": "stdout",
          "text": [
            "Requirement already satisfied: scikit-learn in /usr/local/lib/python3.11/dist-packages (1.6.1)\n",
            "Requirement already satisfied: opencv-python in /usr/local/lib/python3.11/dist-packages (4.12.0.88)\n",
            "Requirement already satisfied: pillow in /usr/local/lib/python3.11/dist-packages (11.3.0)\n",
            "Requirement already satisfied: matplotlib in /usr/local/lib/python3.11/dist-packages (3.10.0)\n",
            "Requirement already satisfied: seaborn in /usr/local/lib/python3.11/dist-packages (0.13.2)\n",
            "Requirement already satisfied: plotly in /usr/local/lib/python3.11/dist-packages (5.24.1)\n",
            "Requirement already satisfied: joblib in /usr/local/lib/python3.11/dist-packages (1.5.1)\n",
            "Requirement already satisfied: numpy>=1.19.5 in /usr/local/lib/python3.11/dist-packages (from scikit-learn) (2.0.2)\n",
            "Requirement already satisfied: scipy>=1.6.0 in /usr/local/lib/python3.11/dist-packages (from scikit-learn) (1.16.1)\n",
            "Requirement already satisfied: threadpoolctl>=3.1.0 in /usr/local/lib/python3.11/dist-packages (from scikit-learn) (3.6.0)\n",
            "Requirement already satisfied: contourpy>=1.0.1 in /usr/local/lib/python3.11/dist-packages (from matplotlib) (1.3.3)\n",
            "Requirement already satisfied: cycler>=0.10 in /usr/local/lib/python3.11/dist-packages (from matplotlib) (0.12.1)\n",
            "Requirement already satisfied: fonttools>=4.22.0 in /usr/local/lib/python3.11/dist-packages (from matplotlib) (4.59.0)\n",
            "Requirement already satisfied: kiwisolver>=1.3.1 in /usr/local/lib/python3.11/dist-packages (from matplotlib) (1.4.8)\n",
            "Requirement already satisfied: packaging>=20.0 in /usr/local/lib/python3.11/dist-packages (from matplotlib) (25.0)\n",
            "Requirement already satisfied: pyparsing>=2.3.1 in /usr/local/lib/python3.11/dist-packages (from matplotlib) (3.2.3)\n",
            "Requirement already satisfied: python-dateutil>=2.7 in /usr/local/lib/python3.11/dist-packages (from matplotlib) (2.9.0.post0)\n",
            "Requirement already satisfied: pandas>=1.2 in /usr/local/lib/python3.11/dist-packages (from seaborn) (2.2.2)\n",
            "Requirement already satisfied: tenacity>=6.2.0 in /usr/local/lib/python3.11/dist-packages (from plotly) (8.5.0)\n",
            "Requirement already satisfied: pytz>=2020.1 in /usr/local/lib/python3.11/dist-packages (from pandas>=1.2->seaborn) (2025.2)\n",
            "Requirement already satisfied: tzdata>=2022.7 in /usr/local/lib/python3.11/dist-packages (from pandas>=1.2->seaborn) (2025.2)\n",
            "Requirement already satisfied: six>=1.5 in /usr/local/lib/python3.11/dist-packages (from python-dateutil>=2.7->matplotlib) (1.17.0)\n",
            "Requirement already satisfied: shap in /usr/local/lib/python3.11/dist-packages (0.48.0)\n",
            "Requirement already satisfied: numpy in /usr/local/lib/python3.11/dist-packages (from shap) (2.0.2)\n",
            "Requirement already satisfied: scipy in /usr/local/lib/python3.11/dist-packages (from shap) (1.16.1)\n",
            "Requirement already satisfied: scikit-learn in /usr/local/lib/python3.11/dist-packages (from shap) (1.6.1)\n",
            "Requirement already satisfied: pandas in /usr/local/lib/python3.11/dist-packages (from shap) (2.2.2)\n",
            "Requirement already satisfied: tqdm>=4.27.0 in /usr/local/lib/python3.11/dist-packages (from shap) (4.67.1)\n",
            "Requirement already satisfied: packaging>20.9 in /usr/local/lib/python3.11/dist-packages (from shap) (25.0)\n",
            "Requirement already satisfied: slicer==0.0.8 in /usr/local/lib/python3.11/dist-packages (from shap) (0.0.8)\n",
            "Requirement already satisfied: numba>=0.54 in /usr/local/lib/python3.11/dist-packages (from shap) (0.60.0)\n",
            "Requirement already satisfied: cloudpickle in /usr/local/lib/python3.11/dist-packages (from shap) (3.1.1)\n",
            "Requirement already satisfied: typing-extensions in /usr/local/lib/python3.11/dist-packages (from shap) (4.14.1)\n",
            "Requirement already satisfied: llvmlite<0.44,>=0.43.0dev0 in /usr/local/lib/python3.11/dist-packages (from numba>=0.54->shap) (0.43.0)\n",
            "Requirement already satisfied: python-dateutil>=2.8.2 in /usr/local/lib/python3.11/dist-packages (from pandas->shap) (2.9.0.post0)\n",
            "Requirement already satisfied: pytz>=2020.1 in /usr/local/lib/python3.11/dist-packages (from pandas->shap) (2025.2)\n",
            "Requirement already satisfied: tzdata>=2022.7 in /usr/local/lib/python3.11/dist-packages (from pandas->shap) (2025.2)\n",
            "Requirement already satisfied: joblib>=1.2.0 in /usr/local/lib/python3.11/dist-packages (from scikit-learn->shap) (1.5.1)\n",
            "Requirement already satisfied: threadpoolctl>=3.1.0 in /usr/local/lib/python3.11/dist-packages (from scikit-learn->shap) (3.6.0)\n",
            "Requirement already satisfied: six>=1.5 in /usr/local/lib/python3.11/dist-packages (from python-dateutil>=2.8.2->pandas->shap) (1.17.0)\n",
            "✅ All packages installed successfully!\n"
          ]
        }
      ]
    },
    {
      "cell_type": "code",
      "source": [
        "import os\n",
        "import numpy as np\n",
        "import pandas as pd\n",
        "import matplotlib.pyplot as plt\n",
        "import seaborn as sns\n",
        "from sklearn.model_selection import train_test_split, cross_val_score, GridSearchCV\n",
        "from sklearn.preprocessing import LabelEncoder, StandardScaler\n",
        "from sklearn.feature_extraction.text import TfidfVectorizer\n",
        "from sklearn.ensemble import RandomForestClassifier, VotingClassifier\n",
        "from sklearn.linear_model import LogisticRegression\n",
        "from sklearn.svm import SVC\n",
        "from sklearn.metrics import classification_report, confusion_matrix, accuracy_score\n",
        "from sklearn.metrics import precision_recall_fscore_support\n",
        "import cv2\n",
        "from PIL import Image\n",
        "import joblib\n",
        "import warnings\n",
        "warnings.filterwarnings('ignore')"
      ],
      "metadata": {
        "id": "mSU4yxvXqGrl"
      },
      "execution_count": null,
      "outputs": []
    },
    {
      "cell_type": "code",
      "source": [
        "from google.colab import drive\n",
        "drive.mount('/content/drive')"
      ],
      "metadata": {
        "colab": {
          "base_uri": "https://localhost:8080/"
        },
        "id": "Nb9pu69tqPRR",
        "outputId": "cab0eec6-0d0a-4a92-a256-6611360edfc4"
      },
      "execution_count": null,
      "outputs": [
        {
          "output_type": "stream",
          "name": "stdout",
          "text": [
            "Drive already mounted at /content/drive; to attempt to forcibly remount, call drive.mount(\"/content/drive\", force_remount=True).\n"
          ]
        }
      ]
    },
    {
      "cell_type": "code",
      "source": [
        "BASE_PATH = '/content/drive/MyDrive/SDS Task2/ML/data/images'  # Update this path!\n",
        "OCR_PATH = '/content/drive/MyDrive/SDS Task2/ML/data/ocr'      # Update this path!\n",
        "\n",
        "# Verify paths exist\n",
        "if os.path.exists(BASE_PATH):\n",
        "    print(f\"✅ Images path found: {BASE_PATH}\")\n",
        "    print(f\"Available folders: {os.listdir(BASE_PATH)}\")\n",
        "else:\n",
        "    print(f\"❌ Images path not found: {BASE_PATH}\")\n",
        "    print(\"Please update BASE_PATH with your correct folder structure\")\n",
        "\n",
        "if os.path.exists(OCR_PATH):\n",
        "    print(f\"✅ OCR path found: {OCR_PATH}\")\n",
        "else:\n",
        "    print(f\"❌ OCR path not found: {OCR_PATH}\")\n",
        "    print(\"Please update OCR_PATH with your correct folder structure\")"
      ],
      "metadata": {
        "colab": {
          "base_uri": "https://localhost:8080/"
        },
        "id": "QSEsPABLqd9J",
        "outputId": "f0af3d74-1835-4094-b99e-66ed8157466b"
      },
      "execution_count": null,
      "outputs": [
        {
          "output_type": "stream",
          "name": "stdout",
          "text": [
            "✅ Images path found: /content/drive/MyDrive/SDS Task2/ML/data/images\n",
            "Available folders: ['0', '2', '4', '6', '9']\n",
            "✅ OCR path found: /content/drive/MyDrive/SDS Task2/ML/data/ocr\n"
          ]
        }
      ]
    },
    {
      "cell_type": "code",
      "source": [
        "def load_and_preprocess_image(img_path):\n",
        "    \"\"\"\n",
        "    Load and preprocess image for feature extraction\n",
        "    \"\"\"\n",
        "    try:\n",
        "        # Read image using OpenCV\n",
        "        image = cv2.imread(img_path, cv2.IMREAD_GRAYSCALE)\n",
        "\n",
        "        if image is None:\n",
        "            return None\n",
        "\n",
        "        # Resize to standard size (maintaining aspect ratio)\n",
        "        height, width = image.shape\n",
        "        if height > 300 or width > 300:\n",
        "            scale = min(300/height, 300/width)\n",
        "            new_height, new_width = int(height * scale), int(width * scale)\n",
        "            image = cv2.resize(image, (new_width, new_height))\n",
        "\n",
        "        # Normalize pixel values\n",
        "        image = image / 255.0\n",
        "\n",
        "        return image\n",
        "\n",
        "    except Exception as e:\n",
        "        print(f\"Error loading image {img_path}: {e}\")\n",
        "        return None\n",
        "\n",
        "def extract_image_features(images):\n",
        "    \"\"\"\n",
        "    Extract comprehensive features from images\n",
        "    \"\"\"\n",
        "    print(\"Extracting image features...\")\n",
        "    features_list = []\n",
        "\n",
        "    for idx, img in enumerate(images):\n",
        "        if idx % 100 == 0:\n",
        "            print(f\"Processing image {idx+1}/{len(images)}\")\n",
        "\n",
        "        features = []\n",
        "\n",
        "        # Basic statistics\n",
        "        features.extend([\n",
        "            np.mean(img),           # Mean intensity\n",
        "            np.std(img),            # Standard deviation\n",
        "            np.min(img),            # Minimum intensity\n",
        "            np.max(img),            # Maximum intensity\n",
        "            img.shape[0],           # Height\n",
        "            img.shape[1],           # Width\n",
        "            img.shape[0] * img.shape[1]  # Area\n",
        "        ])\n",
        "\n",
        "        # Histogram features (10 bins)\n",
        "        hist, _ = np.histogram(img.flatten(), bins=10, range=(0, 1))\n",
        "        hist = hist / np.sum(hist)  # Normalize\n",
        "        features.extend(hist)\n",
        "\n",
        "        # Edge detection features\n",
        "        edges = cv2.Canny((img * 255).astype(np.uint8), 50, 150)\n",
        "        edge_ratio = np.sum(edges > 0) / (edges.shape[0] * edges.shape[1])\n",
        "        features.append(edge_ratio)\n",
        "\n",
        "        # Texture features using transitions\n",
        "        transitions = 0\n",
        "        for i in range(1, img.shape[0]):\n",
        "            for j in range(1, img.shape[1]):\n",
        "                if abs(img[i, j] - img[i-1, j]) > 0.1:\n",
        "                    transitions += 1\n",
        "                if abs(img[i, j] - img[i, j-1]) > 0.1:\n",
        "                    transitions += 1\n",
        "\n",
        "        texture_density = transitions / (img.shape[0] * img.shape[1])\n",
        "        features.append(texture_density)\n",
        "\n",
        "        # Aspect ratio\n",
        "        aspect_ratio = img.shape[1] / img.shape[0]\n",
        "        features.append(aspect_ratio)\n",
        "\n",
        "        features_list.append(features)\n",
        "\n",
        "    return np.array(features_list)\n",
        "\n",
        "print(\"✅ Image processing functions defined!\")"
      ],
      "metadata": {
        "colab": {
          "base_uri": "https://localhost:8080/"
        },
        "id": "TWP56gdFqxIP",
        "outputId": "23603dc5-dba8-4ded-ebaa-d9a7dd043111"
      },
      "execution_count": null,
      "outputs": [
        {
          "output_type": "stream",
          "name": "stdout",
          "text": [
            "✅ Image processing functions defined!\n"
          ]
        }
      ]
    },
    {
      "cell_type": "code",
      "source": [
        "def load_ocr_text(ocr_path):\n",
        "    \"\"\"\n",
        "    Load OCR text from file\n",
        "    \"\"\"\n",
        "    try:\n",
        "        if os.path.exists(ocr_path):\n",
        "            with open(ocr_path, 'r', encoding='utf-8', errors='ignore') as f:\n",
        "                text = f.read().strip()\n",
        "            return text if text else \"\"\n",
        "        else:\n",
        "            return \"\"\n",
        "    except Exception as e:\n",
        "        print(f\"Error loading OCR text {ocr_path}: {e}\")\n",
        "        return \"\"\n",
        "\n",
        "# Initialize text vectorizer\n",
        "tfidf_vectorizer = TfidfVectorizer(\n",
        "    max_features=5000,\n",
        "    stop_words='english',\n",
        "    ngram_range=(1, 2),\n",
        "    min_df=2,\n",
        "    max_df=0.8\n",
        ")\n",
        "\n",
        "print(\"✅ Text processing functions defined!\")\n",
        "\n",
        "# =============================================================================\n",
        "\n",
        "# CELL 6: Data Loading Function\n",
        "# Main function to load the complete dataset\n",
        "\n",
        "def load_dataset(base_path, ocr_path):\n",
        "    \"\"\"\n",
        "    Load images and corresponding OCR text from the organized folder structure\n",
        "    Returns: X_images, X_texts, y (labels), class_names\n",
        "    \"\"\"\n",
        "    print(\"Loading dataset...\")\n",
        "\n",
        "    images = []\n",
        "    texts = []\n",
        "    labels = []\n",
        "    class_names = []\n",
        "\n",
        "    # Get all class directories\n",
        "    class_dirs = [d for d in os.listdir(base_path) if os.path.isdir(os.path.join(base_path, d))]\n",
        "    class_names = sorted(class_dirs)\n",
        "\n",
        "    print(f\"Found classes: {class_names}\")\n",
        "\n",
        "    for class_name in class_names:\n",
        "        class_path = os.path.join(base_path, class_name)\n",
        "        ocr_class_path = os.path.join(ocr_path, class_name)\n",
        "\n",
        "        print(f\"Processing class: {class_name}\")\n",
        "\n",
        "        # Get all TIF files in the class directory\n",
        "        image_files = [f for f in os.listdir(class_path) if f.endswith('.TIF') or f.endswith('.tif')]\n",
        "\n",
        "        class_count = 0\n",
        "        for img_file in image_files:\n",
        "            try:\n",
        "                # Load image\n",
        "                img_path = os.path.join(class_path, img_file)\n",
        "                image = load_and_preprocess_image(img_path)\n",
        "\n",
        "                # Load corresponding OCR text\n",
        "                ocr_file = img_file + '.txt'\n",
        "                ocr_file_path = os.path.join(ocr_class_path, ocr_file)\n",
        "                text = load_ocr_text(ocr_file_path)\n",
        "\n",
        "                # Only add if image is successfully loaded\n",
        "                if image is not None:\n",
        "                    images.append(image)\n",
        "                    texts.append(text)\n",
        "                    labels.append(class_name)\n",
        "                    class_count += 1\n",
        "\n",
        "            except Exception as e:\n",
        "                print(f\"Error processing {img_file}: {e}\")\n",
        "                continue\n",
        "\n",
        "        print(f\"Loaded {class_count} samples for {class_name}\")\n",
        "\n",
        "    print(f\"Total samples loaded: {len(images)}\")\n",
        "    return images, texts, labels, class_names\n",
        "\n",
        "print(\"✅ Data loading function defined!\")"
      ],
      "metadata": {
        "colab": {
          "base_uri": "https://localhost:8080/"
        },
        "id": "uZlXl2FTrC2W",
        "outputId": "b76211a4-a0a8-4bc2-d18b-a36694a6c6b3"
      },
      "execution_count": null,
      "outputs": [
        {
          "output_type": "stream",
          "name": "stdout",
          "text": [
            "✅ Text processing functions defined!\n",
            "✅ Data loading function defined!\n"
          ]
        }
      ]
    },
    {
      "cell_type": "code",
      "source": [
        "print(\"Starting data loading process...\")\n",
        "\n",
        "# Load the dataset\n",
        "try:\n",
        "    images, texts, labels, class_names = load_dataset(BASE_PATH, OCR_PATH)\n",
        "\n",
        "    if len(images) == 0:\n",
        "        print(\"❌ No data loaded. Please check your paths and data structure.\")\n",
        "    else:\n",
        "        print(f\"✅ Successfully loaded {len(images)} samples\")\n",
        "\n",
        "        # Display class distribution\n",
        "        from collections import Counter\n",
        "        class_counts = Counter(labels)\n",
        "        print(\"\\nClass distribution:\")\n",
        "        for class_name, count in class_counts.items():\n",
        "            print(f\"  {class_name}: {count} samples\")\n",
        "\n",
        "        # Show sample image\n",
        "        plt.figure(figsize=(8, 6))\n",
        "        plt.imshow(images[0], cmap='gray')\n",
        "        plt.title(f\"Sample image from class: {labels[0]}\")\n",
        "        plt.axis('off')\n",
        "        plt.show()\n",
        "\n",
        "        print(f\"Sample OCR text: {texts[0][:200]}...\")\n",
        "\n",
        "except Exception as e:\n",
        "    print(f\"❌ Error loading data: {e}\")\n",
        "    print(\"Please check your BASE_PATH and OCR_PATH settings\")"
      ],
      "metadata": {
        "colab": {
          "base_uri": "https://localhost:8080/",
          "height": 1076
        },
        "id": "y0fzwiw8rKLU",
        "outputId": "cf0846fd-7985-4b8b-984e-05658de8fbde"
      },
      "execution_count": null,
      "outputs": [
        {
          "output_type": "stream",
          "name": "stdout",
          "text": [
            "Starting data loading process...\n",
            "Loading dataset...\n",
            "Found classes: ['0', '2', '4', '6', '9']\n",
            "Processing class: 0\n",
            "Loaded 500 samples for 0\n",
            "Processing class: 2\n",
            "Loaded 500 samples for 2\n",
            "Processing class: 4\n",
            "Loaded 500 samples for 4\n",
            "Processing class: 6\n",
            "Loaded 500 samples for 6\n",
            "Processing class: 9\n",
            "Loaded 500 samples for 9\n",
            "Total samples loaded: 2500\n",
            "✅ Successfully loaded 2500 samples\n",
            "\n",
            "Class distribution:\n",
            "  0: 500 samples\n",
            "  2: 500 samples\n",
            "  4: 500 samples\n",
            "  6: 500 samples\n",
            "  9: 500 samples\n"
          ]
        },
        {
          "output_type": "display_data",
          "data": {
            "text/plain": [
              "<Figure size 800x600 with 1 Axes>"
            ],
            "image/png": "[encoded data removed]"
          },
          "metadata": {}
        },
        {
          "output_type": "stream",
          "name": "stdout",
          "text": [
            "Sample OCR text: ‘ed Bae Conany/ Nev York\n",
            "\n",
            "Met. dutwnye Aavertintng Co,\n",
            "650'2Fth avenue\n",
            "Siow Ver Wow York\n",
            "\n",
            "Don Harvie\n",
            "os RRO A wotstaween sonanco cum\n",
            "\n",
            "‘hin with confirs oar teteshane comrersatson snl ecerect the AExoF...\n"
          ]
        }
      ]
    },
    {
      "cell_type": "code",
      "source": [
        "print(\"Starting feature extraction...\")\n",
        "\n",
        "# Initialize preprocessing components\n",
        "label_encoder = LabelEncoder()\n",
        "scaler = StandardScaler()\n",
        "\n",
        "# Encode labels\n",
        "y_encoded = label_encoder.fit_transform(labels)\n",
        "print(f\"Encoded labels shape: {y_encoded.shape}\")\n",
        "print(f\"Classes: {label_encoder.classes_}\")\n",
        "\n",
        "# Extract image features\n",
        "print(\"Extracting image features (this may take a few minutes)...\")\n",
        "X_image_features = extract_image_features(images)\n",
        "print(f\"Image features shape: {X_image_features.shape}\")\n",
        "\n",
        "# Scale image features\n",
        "X_image_features_scaled = scaler.fit_transform(X_image_features)\n",
        "print(\"✅ Image features scaled\")\n",
        "\n",
        "# Extract text features\n",
        "print(\"Extracting text features...\")\n",
        "X_text_features = tfidf_vectorizer.fit_transform(texts)\n",
        "print(f\"Text features shape: {X_text_features.shape}\")\n",
        "\n",
        "print(\"✅ Feature extraction completed!\")\n",
        "\n",
        "# Display feature statistics\n",
        "print(f\"\\nFeature Statistics:\")\n",
        "print(f\"- Image features: {X_image_features_scaled.shape[1]} dimensions\")\n",
        "print(f\"- Text features: {X_text_features.shape[1]} dimensions\")\n",
        "print(f\"- Total samples: {X_image_features_scaled.shape[0]}\")"
      ],
      "metadata": {
        "colab": {
          "base_uri": "https://localhost:8080/"
        },
        "id": "6Wd9q2xWuIiE",
        "outputId": "aff83fa0-d909-4248-d5dd-ac7b2f60d525"
      },
      "execution_count": null,
      "outputs": [
        {
          "output_type": "stream",
          "name": "stdout",
          "text": [
            "Starting feature extraction...\n",
            "Encoded labels shape: (2500,)\n",
            "Classes: ['0' '2' '4' '6' '9']\n",
            "Extracting image features (this may take a few minutes)...\n",
            "Extracting image features...\n",
            "Processing image 1/2500\n",
            "Processing image 101/2500\n",
            "Processing image 201/2500\n",
            "Processing image 301/2500\n",
            "Processing image 401/2500\n",
            "Processing image 501/2500\n",
            "Processing image 601/2500\n",
            "Processing image 701/2500\n",
            "Processing image 801/2500\n",
            "Processing image 901/2500\n",
            "Processing image 1001/2500\n",
            "Processing image 1101/2500\n",
            "Processing image 1201/2500\n",
            "Processing image 1301/2500\n",
            "Processing image 1401/2500\n",
            "Processing image 1501/2500\n",
            "Processing image 1601/2500\n",
            "Processing image 1701/2500\n",
            "Processing image 1801/2500\n",
            "Processing image 1901/2500\n",
            "Processing image 2001/2500\n",
            "Processing image 2101/2500\n",
            "Processing image 2201/2500\n",
            "Processing image 2301/2500\n",
            "Processing image 2401/2500\n",
            "Image features shape: (2500, 20)\n",
            "✅ Image features scaled\n",
            "Extracting text features...\n",
            "Text features shape: (2500, 5000)\n",
            "✅ Feature extraction completed!\n",
            "\n",
            "Feature Statistics:\n",
            "- Image features: 20 dimensions\n",
            "- Text features: 5000 dimensions\n",
            "- Total samples: 2500\n"
          ]
        }
      ]
    },
    {
      "cell_type": "code",
      "source": [
        "from sklearn.model_selection import train_test_split\n",
        "\n",
        "# Split the data\n",
        "(X_img_train, X_img_test, X_txt_train, X_txt_test, y_train, y_test) = train_test_split(\n",
        "    X_image_features_scaled, X_text_features, y_encoded,\n",
        "    test_size=0.2, random_state=42, stratify=y_encoded\n",
        ")\n",
        "\n",
        "print(\"Data split completed!\")\n",
        "print(f\"Training samples: {X_img_train.shape[0]}\")\n",
        "print(f\"Testing samples: {X_img_test.shape[0]}\")\n",
        "\n",
        "# Verify class distribution in splits\n",
        "from collections import Counter\n",
        "train_dist = Counter(y_train)\n",
        "test_dist = Counter(y_test)\n",
        "\n",
        "print(\"\\nTraining set distribution:\")\n",
        "for i, class_name in enumerate(label_encoder.classes_):\n",
        "    print(f\"  {class_name}: {train_dist[i]} samples\")\n",
        "\n",
        "print(\"\\nTest set distribution:\")\n",
        "for i, class_name in enumerate(label_encoder.classes_):\n",
        "    print(f\"  {class_name}: {test_dist[i]} samples\")"
      ],
      "metadata": {
        "colab": {
          "base_uri": "https://localhost:8080/"
        },
        "id": "gizChsZNvIZC",
        "outputId": "1a065403-259d-42c9-bc26-4e668e7c8323"
      },
      "execution_count": null,
      "outputs": [
        {
          "output_type": "stream",
          "name": "stdout",
          "text": [
            "Data split completed!\n",
            "Training samples: 2000\n",
            "Testing samples: 500\n",
            "\n",
            "Training set distribution:\n",
            "  0: 400 samples\n",
            "  2: 400 samples\n",
            "  4: 400 samples\n",
            "  6: 400 samples\n",
            "  9: 400 samples\n",
            "\n",
            "Test set distribution:\n",
            "  0: 100 samples\n",
            "  2: 100 samples\n",
            "  4: 100 samples\n",
            "  6: 100 samples\n",
            "  9: 100 samples\n"
          ]
        }
      ]
    },
    {
      "cell_type": "code",
      "source": [
        "# Train the Random Forest model for image classification\n",
        "\n",
        "print(\"Training Image Classification Model...\")\n",
        "\n",
        "# Initialize and train Random Forest for images\n",
        "image_model = RandomForestClassifier(\n",
        "    n_estimators=200,\n",
        "    max_depth=15,\n",
        "    min_samples_split=5,\n",
        "    min_samples_leaf=2,\n",
        "    random_state=42,\n",
        "    n_jobs=-1,\n",
        "    verbose=1\n",
        ")\n",
        "\n",
        "print(\"Fitting image model...\")\n",
        "image_model.fit(X_img_train, y_train)\n",
        "\n",
        "# Evaluate image model\n",
        "img_train_pred = image_model.predict(X_img_train)\n",
        "img_test_pred = image_model.predict(X_img_test)\n",
        "\n",
        "img_train_acc = accuracy_score(y_train, img_train_pred)\n",
        "img_test_acc = accuracy_score(y_test, img_test_pred)\n",
        "\n",
        "print(f\"✅ Image Model Training Complete!\")\n",
        "print(f\"Training Accuracy: {img_train_acc:.4f}\")\n",
        "print(f\"Test Accuracy: {img_test_acc:.4f}\")\n",
        "\n",
        "# Feature importance\n",
        "feature_names = [\n",
        "    'mean_intensity', 'std_intensity', 'min_intensity', 'max_intensity',\n",
        "    'height', 'width', 'area'\n",
        "] + [f'hist_bin_{i}' for i in range(10)] + [\n",
        "    'edge_ratio', 'texture_density', 'aspect_ratio'\n",
        "]\n",
        "\n",
        "importance_df = pd.DataFrame({\n",
        "    'feature': feature_names,\n",
        "    'importance': image_model.feature_importances_\n",
        "}).sort_values('importance', ascending=False)\n",
        "\n",
        "print(\"\\nTop 10 Image Features by Importance:\")\n",
        "print(importance_df.head(10))"
      ],
      "metadata": {
        "colab": {
          "base_uri": "https://localhost:8080/"
        },
        "id": "ojzaYhQavTn_",
        "outputId": "e8740d17-c615-43fe-88a0-191b797877e4"
      },
      "execution_count": null,
      "outputs": [
        {
          "output_type": "stream",
          "name": "stdout",
          "text": [
            "Training Image Classification Model...\n",
            "Fitting image model...\n"
          ]
        },
        {
          "output_type": "stream",
          "name": "stderr",
          "text": [
            "[Parallel(n_jobs=-1)]: Using backend ThreadingBackend with 2 concurrent workers.\n",
            "[Parallel(n_jobs=-1)]: Done  46 tasks      | elapsed:    1.0s\n",
            "[Parallel(n_jobs=-1)]: Done 196 tasks      | elapsed:    3.1s\n",
            "[Parallel(n_jobs=-1)]: Done 200 out of 200 | elapsed:    3.1s finished\n",
            "[Parallel(n_jobs=2)]: Using backend ThreadingBackend with 2 concurrent workers.\n",
            "[Parallel(n_jobs=2)]: Done  46 tasks      | elapsed:    0.0s\n",
            "[Parallel(n_jobs=2)]: Done 196 tasks      | elapsed:    0.2s\n",
            "[Parallel(n_jobs=2)]: Done 200 out of 200 | elapsed:    0.2s finished\n",
            "[Parallel(n_jobs=2)]: Using backend ThreadingBackend with 2 concurrent workers.\n",
            "[Parallel(n_jobs=2)]: Done  46 tasks      | elapsed:    0.0s\n",
            "[Parallel(n_jobs=2)]: Done 196 tasks      | elapsed:    0.1s\n",
            "[Parallel(n_jobs=2)]: Done 200 out of 200 | elapsed:    0.1s finished\n"
          ]
        },
        {
          "output_type": "stream",
          "name": "stdout",
          "text": [
            "✅ Image Model Training Complete!\n",
            "Training Accuracy: 0.9545\n",
            "Test Accuracy: 0.6360\n",
            "\n",
            "Top 10 Image Features by Importance:\n",
            "            feature  importance\n",
            "0    mean_intensity    0.101588\n",
            "7        hist_bin_0    0.096467\n",
            "1     std_intensity    0.093272\n",
            "16       hist_bin_9    0.079459\n",
            "17       edge_ratio    0.074919\n",
            "12       hist_bin_5    0.063695\n",
            "13       hist_bin_6    0.052436\n",
            "18  texture_density    0.051391\n",
            "11       hist_bin_4    0.050382\n",
            "15       hist_bin_8    0.050022\n"
          ]
        }
      ]
    },
    {
      "cell_type": "code",
      "source": [
        "print(\"Training Text Classification Model...\")\n",
        "\n",
        "# Initialize and train Logistic Regression for text\n",
        "text_model = LogisticRegression(\n",
        "    max_iter=1000,\n",
        "    C=1.0,\n",
        "    random_state=42,\n",
        "    verbose=1\n",
        ")\n",
        "\n",
        "print(\"Fitting text model...\")\n",
        "text_model.fit(X_txt_train, y_train)\n",
        "\n",
        "# Evaluate text model\n",
        "txt_train_pred = text_model.predict(X_txt_train)\n",
        "txt_test_pred = text_model.predict(X_txt_test)\n",
        "\n",
        "txt_train_acc = accuracy_score(y_train, txt_train_pred)\n",
        "txt_test_acc = accuracy_score(y_test, txt_test_pred)\n",
        "\n",
        "print(f\"✅ Text Model Training Complete!\")\n",
        "print(f\"Training Accuracy: {txt_train_acc:.4f}\")\n",
        "print(f\"Test Accuracy: {txt_test_acc:.4f}\")"
      ],
      "metadata": {
        "colab": {
          "base_uri": "https://localhost:8080/"
        },
        "id": "FqdpyKMjvfkS",
        "outputId": "f29a331f-0f0f-4ea2-8dcc-3ba5f29ee3d0"
      },
      "execution_count": null,
      "outputs": [
        {
          "output_type": "stream",
          "name": "stdout",
          "text": [
            "Training Text Classification Model...\n",
            "Fitting text model...\n",
            "✅ Text Model Training Complete!\n",
            "Training Accuracy: 0.9460\n",
            "Test Accuracy: 0.8240\n"
          ]
        },
        {
          "output_type": "stream",
          "name": "stderr",
          "text": [
            "[Parallel(n_jobs=1)]: Done   1 out of   1 | elapsed:    0.7s finished\n"
          ]
        }
      ]
    },
    {
      "cell_type": "code",
      "source": [
        "# Combine both models for ensemble prediction\n",
        "\n",
        "print(\"Creating Ensemble Predictions...\")\n",
        "\n",
        "# Get prediction probabilities\n",
        "img_pred_proba = image_model.predict_proba(X_img_test)\n",
        "txt_pred_proba = text_model.predict_proba(X_txt_test)\n",
        "\n",
        "# Ensemble prediction with weighted average\n",
        "# You can adjust these weights based on individual model performance\n",
        "img_weight = 0.6\n",
        "txt_weight = 0.4\n",
        "\n",
        "ensemble_pred_proba = img_weight * img_pred_proba + txt_weight * txt_pred_proba\n",
        "ensemble_pred = np.argmax(ensemble_pred_proba, axis=1)\n",
        "\n",
        "# Calculate ensemble accuracy\n",
        "ensemble_acc = accuracy_score(y_test, ensemble_pred)\n",
        "\n",
        "print(f\"✅ Ensemble Model Complete!\")\n",
        "print(f\"Image Model Test Accuracy: {img_test_acc:.4f}\")\n",
        "print(f\"Text Model Test Accuracy: {txt_test_acc:.4f}\")\n",
        "print(f\"Ensemble Model Test Accuracy: {ensemble_acc:.4f}\")"
      ],
      "metadata": {
        "colab": {
          "base_uri": "https://localhost:8080/"
        },
        "id": "oENEFUBcv2Am",
        "outputId": "c8bb0bf0-ac96-4a5d-f3f5-bd41216ecde3"
      },
      "execution_count": null,
      "outputs": [
        {
          "output_type": "stream",
          "name": "stdout",
          "text": [
            "Creating Ensemble Predictions...\n",
            "✅ Ensemble Model Complete!\n",
            "Image Model Test Accuracy: 0.6360\n",
            "Text Model Test Accuracy: 0.8240\n",
            "Ensemble Model Test Accuracy: 0.7800\n"
          ]
        },
        {
          "output_type": "stream",
          "name": "stderr",
          "text": [
            "[Parallel(n_jobs=2)]: Using backend ThreadingBackend with 2 concurrent workers.\n",
            "[Parallel(n_jobs=2)]: Done  46 tasks      | elapsed:    0.0s\n",
            "[Parallel(n_jobs=2)]: Done 196 tasks      | elapsed:    0.1s\n",
            "[Parallel(n_jobs=2)]: Done 200 out of 200 | elapsed:    0.1s finished\n"
          ]
        }
      ]
    },
    {
      "cell_type": "code",
      "source": [
        "# Calculate comprehensive metrics for all models\n",
        "\n",
        "def calculate_metrics(y_true, y_pred, model_name):\n",
        "    \"\"\"Calculate and display comprehensive metrics\"\"\"\n",
        "    accuracy = accuracy_score(y_true, y_pred)\n",
        "    precision, recall, f1, _ = precision_recall_fscore_support(y_true, y_pred, average='weighted')\n",
        "\n",
        "    print(f\"\\n{model_name} Results:\")\n",
        "    print(f\"Accuracy: {accuracy:.4f}\")\n",
        "    print(f\"Precision: {precision:.4f}\")\n",
        "    print(f\"Recall: {recall:.4f}\")\n",
        "    print(f\"F1 Score: {f1:.4f}\")\n",
        "\n",
        "    # Detailed classification report\n",
        "    print(f\"\\nDetailed Classification Report for {model_name}:\")\n",
        "    print(classification_report(y_true, y_pred, target_names=label_encoder.classes_))\n",
        "\n",
        "    return {\n",
        "        'accuracy': accuracy,\n",
        "        'precision': precision,\n",
        "        'recall': recall,\n",
        "        'f1': f1,\n",
        "        'predictions': y_pred\n",
        "    }\n",
        "\n",
        "# Calculate metrics for all models\n",
        "print(\"=== COMPREHENSIVE MODEL EVALUATION ===\")\n",
        "\n",
        "img_results = calculate_metrics(y_test, img_test_pred, \"Image Model\")\n",
        "txt_results = calculate_metrics(y_test, txt_test_pred, \"Text Model\")\n",
        "ensemble_results = calculate_metrics(y_test, ensemble_pred, \"Ensemble Model\")\n",
        "\n",
        "# Store results\n",
        "results = {\n",
        "    'Image Model': img_results,\n",
        "    'Text Model': txt_results,\n",
        "    'Ensemble Model': ensemble_results\n",
        "}"
      ],
      "metadata": {
        "colab": {
          "base_uri": "https://localhost:8080/"
        },
        "id": "-yilCD7rv9EF",
        "outputId": "aa62928c-817d-4ab4-b5f3-c3ca35de83a1"
      },
      "execution_count": null,
      "outputs": [
        {
          "output_type": "stream",
          "name": "stdout",
          "text": [
            "=== COMPREHENSIVE MODEL EVALUATION ===\n",
            "\n",
            "Image Model Results:\n",
            "Accuracy: 0.6360\n",
            "Precision: 0.6303\n",
            "Recall: 0.6360\n",
            "F1 Score: 0.6293\n",
            "\n",
            "Detailed Classification Report for Image Model:\n",
            "              precision    recall  f1-score   support\n",
            "\n",
            "           0       0.56      0.65      0.60       100\n",
            "           2       0.73      0.82      0.77       100\n",
            "           4       0.74      0.78      0.76       100\n",
            "           6       0.56      0.51      0.53       100\n",
            "           9       0.57      0.42      0.48       100\n",
            "\n",
            "    accuracy                           0.64       500\n",
            "   macro avg       0.63      0.64      0.63       500\n",
            "weighted avg       0.63      0.64      0.63       500\n",
            "\n",
            "\n",
            "Text Model Results:\n",
            "Accuracy: 0.8240\n",
            "Precision: 0.8385\n",
            "Recall: 0.8240\n",
            "F1 Score: 0.8274\n",
            "\n",
            "Detailed Classification Report for Text Model:\n",
            "              precision    recall  f1-score   support\n",
            "\n",
            "           0       0.86      0.84      0.85       100\n",
            "           2       0.98      0.85      0.91       100\n",
            "           4       0.69      0.87      0.77       100\n",
            "           6       0.94      0.82      0.88       100\n",
            "           9       0.73      0.74      0.73       100\n",
            "\n",
            "    accuracy                           0.82       500\n",
            "   macro avg       0.84      0.82      0.83       500\n",
            "weighted avg       0.84      0.82      0.83       500\n",
            "\n",
            "\n",
            "Ensemble Model Results:\n",
            "Accuracy: 0.7800\n",
            "Precision: 0.7845\n",
            "Recall: 0.7800\n",
            "F1 Score: 0.7781\n",
            "\n",
            "Detailed Classification Report for Ensemble Model:\n",
            "              precision    recall  f1-score   support\n",
            "\n",
            "           0       0.70      0.83      0.76       100\n",
            "           2       0.84      0.87      0.85       100\n",
            "           4       0.77      0.85      0.81       100\n",
            "           6       0.81      0.71      0.76       100\n",
            "           9       0.81      0.64      0.72       100\n",
            "\n",
            "    accuracy                           0.78       500\n",
            "   macro avg       0.78      0.78      0.78       500\n",
            "weighted avg       0.78      0.78      0.78       500\n",
            "\n"
          ]
        }
      ]
    },
    {
      "cell_type": "code",
      "source": [
        "# Create confusion matrices for all models\n",
        "\n",
        "fig, axes = plt.subplots(1, 3, figsize=(18, 5))\n",
        "\n",
        "for idx, (name, result) in enumerate(results.items()):\n",
        "    cm = confusion_matrix(y_test, result['predictions'])\n",
        "\n",
        "    sns.heatmap(cm, annot=True, fmt='d', cmap='Blues',\n",
        "               xticklabels=label_encoder.classes_,\n",
        "               yticklabels=label_encoder.classes_,\n",
        "               ax=axes[idx])\n",
        "\n",
        "    axes[idx].set_title(f'{name}\\nAccuracy: {result[\"accuracy\"]:.4f}')\n",
        "    axes[idx].set_xlabel('Predicted')\n",
        "    axes[idx].set_ylabel('Actual')\n",
        "\n",
        "plt.tight_layout()\n",
        "plt.show()"
      ],
      "metadata": {
        "colab": {
          "base_uri": "https://localhost:8080/",
          "height": 411
        },
        "id": "apQCGCH3wUMl",
        "outputId": "7be0c646-45be-4570-aa84-1c0c3790df3a"
      },
      "execution_count": null,
      "outputs": [
        {
          "output_type": "display_data",
          "data": {
            "text/plain": [
              "<Figure size 1800x500 with 6 Axes>"
            ],
            "image/png": "[encoded data removed]"
          },
          "metadata": {}
        }
      ]
    },
    {
      "cell_type": "code",
      "source": [
        "# Create a comparison chart of all models\n",
        "\n",
        "# Create performance comparison\n",
        "metrics_df = pd.DataFrame({\n",
        "    'Model': ['Image Model', 'Text Model', 'Ensemble Model'],\n",
        "    'Accuracy': [img_results['accuracy'], txt_results['accuracy'], ensemble_results['accuracy']],\n",
        "    'Precision': [img_results['precision'], txt_results['precision'], ensemble_results['precision']],\n",
        "    'Recall': [img_results['recall'], txt_results['recall'], ensemble_results['recall']],\n",
        "    'F1 Score': [img_results['f1'], txt_results['f1'], ensemble_results['f1']]\n",
        "})\n",
        "\n",
        "# Plot comparison\n",
        "fig, ax = plt.subplots(figsize=(12, 6))\n",
        "x = np.arange(len(metrics_df))\n",
        "width = 0.2\n",
        "\n",
        "ax.bar(x - width*1.5, metrics_df['Accuracy'], width, label='Accuracy', alpha=0.8)\n",
        "ax.bar(x - width/2, metrics_df['Precision'], width, label='Precision', alpha=0.8)\n",
        "ax.bar(x + width/2, metrics_df['Recall'], width, label='Recall', alpha=0.8)\n",
        "ax.bar(x + width*1.5, metrics_df['F1 Score'], width, label='F1 Score', alpha=0.8)\n",
        "\n",
        "ax.set_xlabel('Models')\n",
        "ax.set_ylabel('Score')\n",
        "ax.set_title('Model Performance Comparison')\n",
        "ax.set_xticks(x)\n",
        "ax.set_xticklabels(metrics_df['Model'])\n",
        "ax.legend()\n",
        "ax.grid(True, alpha=0.3)\n",
        "\n",
        "# Add value labels on bars\n",
        "for i, model in enumerate(metrics_df['Model']):\n",
        "    for j, metric in enumerate(['Accuracy', 'Precision', 'Recall', 'F1 Score']):\n",
        "        value = metrics_df.iloc[i][metric]\n",
        "        ax.text(i + (j-1.5)*width, value + 0.01, f'{value:.3f}',\n",
        "                ha='center', va='bottom', fontsize=8)\n",
        "\n",
        "plt.tight_layout()\n",
        "plt.show()\n",
        "\n",
        "print(\"✅ Performance comparison completed!\")"
      ],
      "metadata": {
        "colab": {
          "base_uri": "https://localhost:8080/",
          "height": 539
        },
        "id": "PRliWGldwdZO",
        "outputId": "b36582fb-7b8a-4b61-82e3-099d07ebdf64"
      },
      "execution_count": null,
      "outputs": [
        {
          "output_type": "display_data",
          "data": {
            "text/plain": [
              "<Figure size 1200x600 with 1 Axes>"
            ],
            "image/png": "[encoded data removed]"
          },
          "metadata": {}
        },
        {
          "output_type": "stream",
          "name": "stdout",
          "text": [
            "✅ Performance comparison completed!\n"
          ]
        }
      ]
    },
    {
      "cell_type": "code",
      "source": [
        "# Save all trained models and preprocessing components\n",
        "\n",
        "print(\"Saving models and preprocessing components...\")\n",
        "\n",
        "try:\n",
        "    # Create a directory for models\n",
        "    model_dir = '/content/models'\n",
        "    os.makedirs(model_dir, exist_ok=True)\n",
        "\n",
        "    # Save models\n",
        "    joblib.dump(image_model, f'{model_dir}/image_model.pkl')\n",
        "    joblib.dump(text_model, f'{model_dir}/text_model.pkl')\n",
        "\n",
        "    # Save preprocessing components\n",
        "    joblib.dump(label_encoder, f'{model_dir}/label_encoder.pkl')\n",
        "    joblib.dump(scaler, f'{model_dir}/scaler.pkl')\n",
        "    joblib.dump(tfidf_vectorizer, f'{model_dir}/tfidf_vectorizer.pkl')\n",
        "\n",
        "    # Save class names and results\n",
        "    joblib.dump(class_names, f'{model_dir}/class_names.pkl')\n",
        "    joblib.dump(results, f'{model_dir}/evaluation_results.pkl')\n",
        "\n",
        "    # Save ensemble weights\n",
        "    ensemble_config = {\n",
        "        'img_weight': img_weight,\n",
        "        'txt_weight': txt_weight,\n",
        "        'ensemble_accuracy': ensemble_acc\n",
        "    }\n",
        "    joblib.dump(ensemble_config, f'{model_dir}/ensemble_config.pkl')\n",
        "\n",
        "    print(\"✅ All models and components saved successfully!\")\n",
        "    print(f\"Models saved in: {model_dir}\")\n",
        "    print(\"Files saved:\")\n",
        "    for file in os.listdir(model_dir):\n",
        "        print(f\"  - {file}\")\n",
        "\n",
        "except Exception as e:\n",
        "    print(f\"❌ Error saving models: {e}\")"
      ],
      "metadata": {
        "colab": {
          "base_uri": "https://localhost:8080/"
        },
        "id": "sqDXHtCcw4Lj",
        "outputId": "ad96bfab-f9da-4c5d-9c09-a9a6510ebc5b"
      },
      "execution_count": null,
      "outputs": [
        {
          "output_type": "stream",
          "name": "stdout",
          "text": [
            "Saving models and preprocessing components...\n",
            "✅ All models and components saved successfully!\n",
            "Models saved in: /content/models\n",
            "Files saved:\n",
            "  - image_model.pkl\n",
            "  - ensemble_config.pkl\n",
            "  - class_names.pkl\n",
            "  - text_model.pkl\n",
            "  - tfidf_vectorizer.pkl\n",
            "  - evaluation_results.pkl\n",
            "  - scaler.pkl\n",
            "  - label_encoder.pkl\n"
          ]
        }
      ]
    },
    {
      "cell_type": "code",
      "source": [
        "# Perform cross-validation for more robust evaluation\n",
        "\n",
        "from sklearn.model_selection import cross_val_score\n",
        "\n",
        "print(\"Performing Cross-Validation Analysis...\")\n",
        "\n",
        "# Combine training and test data for CV\n",
        "X_img_full = np.vstack([X_img_train, X_img_test])\n",
        "X_txt_full = np.vstack([X_txt_train.toarray(), X_txt_test.toarray()])\n",
        "y_full = np.concatenate([y_train, y_test])\n",
        "\n",
        "# Perform cross-validation\n",
        "cv_folds = 5\n",
        "\n",
        "print(\"Image Model Cross-Validation:\")\n",
        "img_cv_scores = cross_val_score(image_model, X_img_full, y_full, cv=cv_folds, scoring='accuracy')\n",
        "print(f\"CV Accuracy: {img_cv_scores.mean():.4f} (+/- {img_cv_scores.std() * 2:.4f})\")\n",
        "\n",
        "print(\"\\nText Model Cross-Validation:\")\n",
        "txt_cv_scores = cross_val_score(text_model, X_txt_full, y_full, cv=cv_folds, scoring='accuracy')\n",
        "print(f\"CV Accuracy: {txt_cv_scores.mean():.4f} (+/- {txt_cv_scores.std() * 2:.4f})\")\n",
        "\n",
        "# Plot CV scores\n",
        "fig, (ax1, ax2) = plt.subplots(1, 2, figsize=(15, 6))\n",
        "\n",
        "ax1.boxplot([img_cv_scores, txt_cv_scores], labels=['Image Model', 'Text Model'])\n",
        "ax1.set_title('Cross-Validation Accuracy Distribution')\n",
        "ax1.set_ylabel('Accuracy')\n",
        "ax1.grid(True, alpha=0.3)\n",
        "\n",
        "# Individual fold scores\n",
        "folds = range(1, cv_folds + 1)\n",
        "ax2.plot(folds, img_cv_scores, 'o-', label='Image Model', linewidth=2)\n",
        "ax2.plot(folds, txt_cv_scores, 's-', label='Text Model', linewidth=2)\n",
        "ax2.set_title('Cross-Validation Scores by Fold')\n",
        "ax2.set_xlabel('Fold')\n",
        "ax2.set_ylabel('Accuracy')\n",
        "ax2.legend()\n",
        "ax2.grid(True, alpha=0.3)\n",
        "\n",
        "plt.tight_layout()\n",
        "plt.show()\n",
        "\n",
        "print(\"✅ Cross-validation analysis completed!\")"
      ],
      "metadata": {
        "colab": {
          "base_uri": "https://localhost:8080/",
          "height": 1234
        },
        "id": "6QImsi6_xeeH",
        "outputId": "eb59efd3-0d5d-4078-aba8-8245acc33ead"
      },
      "execution_count": null,
      "outputs": [
        {
          "output_type": "stream",
          "name": "stdout",
          "text": [
            "Performing Cross-Validation Analysis...\n",
            "Image Model Cross-Validation:\n"
          ]
        },
        {
          "output_type": "stream",
          "name": "stderr",
          "text": [
            "[Parallel(n_jobs=-1)]: Using backend ThreadingBackend with 2 concurrent workers.\n",
            "[Parallel(n_jobs=-1)]: Done  46 tasks      | elapsed:    0.5s\n",
            "[Parallel(n_jobs=-1)]: Done 196 tasks      | elapsed:    2.0s\n",
            "[Parallel(n_jobs=-1)]: Done 200 out of 200 | elapsed:    2.1s finished\n",
            "[Parallel(n_jobs=2)]: Using backend ThreadingBackend with 2 concurrent workers.\n",
            "[Parallel(n_jobs=2)]: Done  46 tasks      | elapsed:    0.0s\n",
            "[Parallel(n_jobs=2)]: Done 196 tasks      | elapsed:    0.1s\n",
            "[Parallel(n_jobs=2)]: Done 200 out of 200 | elapsed:    0.1s finished\n",
            "[Parallel(n_jobs=-1)]: Using backend ThreadingBackend with 2 concurrent workers.\n",
            "[Parallel(n_jobs=-1)]: Done  46 tasks      | elapsed:    0.5s\n",
            "[Parallel(n_jobs=-1)]: Done 196 tasks      | elapsed:    1.4s\n",
            "[Parallel(n_jobs=-1)]: Done 200 out of 200 | elapsed:    1.4s finished\n",
            "[Parallel(n_jobs=2)]: Using backend ThreadingBackend with 2 concurrent workers.\n",
            "[Parallel(n_jobs=2)]: Done  46 tasks      | elapsed:    0.0s\n",
            "[Parallel(n_jobs=2)]: Done 196 tasks      | elapsed:    0.1s\n",
            "[Parallel(n_jobs=2)]: Done 200 out of 200 | elapsed:    0.1s finished\n",
            "[Parallel(n_jobs=-1)]: Using backend ThreadingBackend with 2 concurrent workers.\n",
            "[Parallel(n_jobs=-1)]: Done  46 tasks      | elapsed:    0.3s\n",
            "[Parallel(n_jobs=-1)]: Done 196 tasks      | elapsed:    1.2s\n",
            "[Parallel(n_jobs=-1)]: Done 200 out of 200 | elapsed:    1.2s finished\n",
            "[Parallel(n_jobs=2)]: Using backend ThreadingBackend with 2 concurrent workers.\n",
            "[Parallel(n_jobs=2)]: Done  46 tasks      | elapsed:    0.0s\n",
            "[Parallel(n_jobs=2)]: Done 196 tasks      | elapsed:    0.1s\n",
            "[Parallel(n_jobs=2)]: Done 200 out of 200 | elapsed:    0.1s finished\n",
            "[Parallel(n_jobs=-1)]: Using backend ThreadingBackend with 2 concurrent workers.\n",
            "[Parallel(n_jobs=-1)]: Done  46 tasks      | elapsed:    0.3s\n",
            "[Parallel(n_jobs=-1)]: Done 196 tasks      | elapsed:    1.2s\n",
            "[Parallel(n_jobs=-1)]: Done 200 out of 200 | elapsed:    1.2s finished\n",
            "[Parallel(n_jobs=2)]: Using backend ThreadingBackend with 2 concurrent workers.\n",
            "[Parallel(n_jobs=2)]: Done  46 tasks      | elapsed:    0.0s\n",
            "[Parallel(n_jobs=2)]: Done 196 tasks      | elapsed:    0.1s\n",
            "[Parallel(n_jobs=2)]: Done 200 out of 200 | elapsed:    0.1s finished\n",
            "[Parallel(n_jobs=-1)]: Using backend ThreadingBackend with 2 concurrent workers.\n",
            "[Parallel(n_jobs=-1)]: Done  46 tasks      | elapsed:    0.3s\n",
            "[Parallel(n_jobs=-1)]: Done 196 tasks      | elapsed:    1.2s\n",
            "[Parallel(n_jobs=-1)]: Done 200 out of 200 | elapsed:    1.2s finished\n",
            "[Parallel(n_jobs=2)]: Using backend ThreadingBackend with 2 concurrent workers.\n",
            "[Parallel(n_jobs=2)]: Done  46 tasks      | elapsed:    0.0s\n",
            "[Parallel(n_jobs=2)]: Done 196 tasks      | elapsed:    0.1s\n",
            "[Parallel(n_jobs=2)]: Done 200 out of 200 | elapsed:    0.1s finished\n"
          ]
        },
        {
          "output_type": "stream",
          "name": "stdout",
          "text": [
            "CV Accuracy: 0.6500 (+/- 0.0143)\n",
            "\n",
            "Text Model Cross-Validation:\n"
          ]
        },
        {
          "output_type": "stream",
          "name": "stderr",
          "text": [
            "[Parallel(n_jobs=1)]: Done   1 out of   1 | elapsed:    4.0s finished\n",
            "[Parallel(n_jobs=1)]: Done   1 out of   1 | elapsed:    8.5s finished\n",
            "[Parallel(n_jobs=1)]: Done   1 out of   1 | elapsed:    8.4s finished\n",
            "[Parallel(n_jobs=1)]: Done   1 out of   1 | elapsed:    8.1s finished\n",
            "[Parallel(n_jobs=1)]: Done   1 out of   1 | elapsed:    4.3s finished\n"
          ]
        },
        {
          "output_type": "stream",
          "name": "stdout",
          "text": [
            "CV Accuracy: 0.8408 (+/- 0.0323)\n"
          ]
        },
        {
          "output_type": "display_data",
          "data": {
            "text/plain": [
              "<Figure size 1500x600 with 2 Axes>"
            ],
            "image/png": "[encoded data removed]"
          },
          "metadata": {}
        },
        {
          "output_type": "stream",
          "name": "stdout",
          "text": [
            "✅ Cross-validation analysis completed!\n"
          ]
        }
      ]
    },
    {
      "cell_type": "code",
      "source": [
        "# Create a function to predict classes for new documents\n",
        "\n",
        "def predict_new_document(image_path, ocr_text=\"\"):\n",
        "    \"\"\"\n",
        "    Predict class for a new document using the trained ensemble model\n",
        "\n",
        "    Args:\n",
        "        image_path (str): Path to the image file\n",
        "        ocr_text (str): OCR text content (optional)\n",
        "\n",
        "    Returns:\n",
        "        dict: Prediction results with class, confidence, and probabilities\n",
        "    \"\"\"\n",
        "    try:\n",
        "        # Load and preprocess image\n",
        "        image = load_and_preprocess_image(image_path)\n",
        "        if image is None:\n",
        "            return {\"error\": \"Could not load image\"}\n",
        "\n",
        "        # Extract image features\n",
        "        img_features = extract_image_features([image])\n",
        "        img_features_scaled = scaler.transform(img_features)\n",
        "\n",
        "        # Process text features\n",
        "        txt_features = tfidf_vectorizer.transform([ocr_text])\n",
        "\n",
        "        # Get predictions\n",
        "        img_pred_proba = image_model.predict_proba(img_features_scaled)[0]\n",
        "        txt_pred_proba = text_model.predict_proba(txt_features)[0]\n",
        "\n",
        "        # Ensemble prediction\n",
        "        ensemble_proba = img_weight * img_pred_proba + txt_weight * txt_pred_proba\n",
        "        predicted_class_idx = np.argmax(ensemble_proba)\n",
        "        predicted_class = label_encoder.classes_[predicted_class_idx]\n",
        "        confidence = ensemble_proba[predicted_class_idx]\n",
        "\n",
        "        return {\n",
        "            'predicted_class': predicted_class,\n",
        "            'confidence': float(confidence),\n",
        "            'all_probabilities': {\n",
        "                class_name: float(prob)\n",
        "                for class_name, prob in zip(label_encoder.classes_, ensemble_proba)\n",
        "            },\n",
        "            'image_probabilities': {\n",
        "                class_name: float(prob)\n",
        "                for class_name, prob in zip(label_encoder.classes_, img_pred_proba)\n",
        "            },\n",
        "            'text_probabilities': {\n",
        "                class_name: float(prob)\n",
        "                for class_name, prob in zip(label_encoder.classes_, txt_pred_proba)\n",
        "            }\n",
        "        }\n",
        "\n",
        "    except Exception as e:\n",
        "        return {\"error\": f\"Prediction failed: {str(e)}\"}\n",
        "\n",
        "# Test the prediction function with a sample from the test set\n",
        "print(\"Testing prediction function...\")\n",
        "\n",
        "# Use the first test sample\n",
        "sample_idx = 0\n",
        "# Reconstruct image path (you may need to adjust this based on your structure)\n",
        "sample_class = label_encoder.classes_[y_test[sample_idx]]\n",
        "sample_text = texts[len(texts) - len(y_test) + sample_idx] if sample_idx < len(texts) else \"\"\n",
        "\n",
        "print(f\"Sample prediction for class: {sample_class}\")\n",
        "print(f\"Sample text preview: {sample_text[:100]}...\")\n",
        "\n",
        "# Note: For actual prediction, you would use:\n",
        "# prediction = predict_new_document(\"/path/to/new/image.TIF\", \"OCR text here\")\n",
        "# print(prediction)\n",
        "\n",
        "print(\"✅ Prediction function ready!\")"
      ],
      "metadata": {
        "colab": {
          "base_uri": "https://localhost:8080/"
        },
        "id": "SYwQEqNJxr0-",
        "outputId": "212f3ebb-1645-46c4-fd88-5f0de99c5c48"
      },
      "execution_count": null,
      "outputs": [
        {
          "output_type": "stream",
          "name": "stdout",
          "text": [
            "Testing prediction function...\n",
            "Sample prediction for class: 9\n",
            "Sample text preview: armers not\n",
            "™lown away\n",
            "\n",
            "vy possible jj\n",
            "sobacco deat\n",
            "\n",
            "2071190448\n",
            "\n",
            " \n",
            "\n",
            "i Judge Landrum |\n",
            "doesn't mind\n",
            "\n",
            "R...\n",
            "✅ Prediction function ready!\n"
          ]
        }
      ]
    },
    {
      "cell_type": "code",
      "source": [
        "# Display comprehensive summary of all results\n",
        "\n",
        "def display_final_summary():\n",
        "    \"\"\"Display a comprehensive summary of model performance and results\"\"\"\n",
        "\n",
        "    print(\"=\" * 60)\n",
        "    print(\"          DOCUMENT CLASSIFICATION - FINAL SUMMARY\")\n",
        "    print(\"=\" * 60)\n",
        "\n",
        "    print(f\"\\n📊 DATASET STATISTICS:\")\n",
        "    print(f\"   • Total samples: {len(images)}\")\n",
        "    print(f\"   • Number of classes: {len(class_names)}\")\n",
        "    print(f\"   • Classes: {', '.join(class_names)}\")\n",
        "    print(f\"   • Training samples: {len(y_train)}\")\n",
        "    print(f\"   • Test samples: {len(y_test)}\")\n",
        "\n",
        "    print(f\"\\n🔧 FEATURE ENGINEERING:\")\n",
        "    print(f\"   • Image features: {X_image_features_scaled.shape[1]} dimensions\")\n",
        "    print(f\"     - Statistical features (7): mean, std, min, max, height, width, area\")\n",
        "    print(f\"     - Histogram features (10): intensity distribution\")\n",
        "    print(f\"     - Edge features (1): edge density\")\n",
        "    print(f\"     - Texture features (1): pixel transitions\")\n",
        "    print(f\"     - Geometric features (2): aspect ratio\")\n",
        "    print(f\"   • Text features: {X_text_features.shape[1]} dimensions (TF-IDF)\")\n",
        "\n",
        "    print(f\"\\n🤖 MODEL ARCHITECTURE:\")\n",
        "    print(f\"   • Image Model: Random Forest (200 trees)\")\n",
        "    print(f\"   • Text Model: Logistic Regression\")\n",
        "    print(f\"   • Ensemble: Weighted combination ({img_weight:.1f} image + {txt_weight:.1f} text)\")\n",
        "\n",
        "    print(f\"\\n📈 PERFORMANCE RESULTS:\")\n",
        "    for model_name, result in results.items():\n",
        "        print(f\"   • {model_name}:\")\n",
        "        print(f\"     - Accuracy:  {result['accuracy']:.4f}\")\n",
        "        print(f\"     - Precision: {result['precision']:.4f}\")\n",
        "        print(f\"     - Recall:    {result['recall']:.4f}\")\n",
        "        print(f\"     - F1 Score:  {result['f1']:.4f}\")\n",
        "\n",
        "    print(f\"\\n🎯 CROSS-VALIDATION RESULTS:\")\n",
        "    print(f\"   • Image Model CV: {img_cv_scores.mean():.4f} (+/- {img_cv_scores.std() * 2:.4f})\")\n",
        "    print(f\"   • Text Model CV:  {txt_cv_scores.mean():.4f} (+/- {txt_cv_scores.std() * 2:.4f})\")\n",
        "\n",
        "    print(f\"\\n💾 SAVED COMPONENTS:\")\n",
        "    print(f\"   • Models: image_model.pkl, text_model.pkl\")\n",
        "    print(f\"   • Preprocessors: label_encoder.pkl, scaler.pkl, tfidf_vectorizer.pkl\")\n",
        "    print(f\"   • Configuration: ensemble_config.pkl, evaluation_results.pkl\")\n",
        "\n",
        "    print(f\"\\n✅ BEST PERFORMING MODEL: {max(results.keys(), key=lambda x: results[x]['accuracy'])}\")\n",
        "    best_accuracy = max(result['accuracy'] for result in results.values())\n",
        "    print(f\"   • Best Accuracy: {best_accuracy:.4f}\")\n",
        "\n",
        "    print(f\"\\n🚀 MODEL IS READY FOR DEPLOYMENT!\")\n",
        "    print(f\"   Use predict_new_document(image_path, ocr_text) for new predictions\")\n",
        "\n",
        "    print(\"=\" * 60)\n",
        "print(\"=== FINAL SUMMARY ===\")\n",
        "display_final_summary()"
      ],
      "metadata": {
        "colab": {
          "base_uri": "https://localhost:8080/"
        },
        "id": "Ogr3l_EJyDyC",
        "outputId": "6ddd9baf-c375-4bcb-b7f7-8ccc8884995c"
      },
      "execution_count": null,
      "outputs": [
        {
          "output_type": "stream",
          "name": "stdout",
          "text": [
            "=== FINAL SUMMARY ===\n",
            "============================================================\n",
            "          DOCUMENT CLASSIFICATION - FINAL SUMMARY\n",
            "============================================================\n",
            "\n",
            "📊 DATASET STATISTICS:\n",
            "   • Total samples: 2500\n",
            "   • Number of classes: 5\n",
            "   • Classes: 0, 2, 4, 6, 9\n",
            "   • Training samples: 2000\n",
            "   • Test samples: 500\n",
            "\n",
            "🔧 FEATURE ENGINEERING:\n",
            "   • Image features: 20 dimensions\n",
            "     - Statistical features (7): mean, std, min, max, height, width, area\n",
            "     - Histogram features (10): intensity distribution\n",
            "     - Edge features (1): edge density\n",
            "     - Texture features (1): pixel transitions\n",
            "     - Geometric features (2): aspect ratio\n",
            "   • Text features: 5000 dimensions (TF-IDF)\n",
            "\n",
            "🤖 MODEL ARCHITECTURE:\n",
            "   • Image Model: Random Forest (200 trees)\n",
            "   • Text Model: Logistic Regression\n",
            "   • Ensemble: Weighted combination (0.6 image + 0.4 text)\n",
            "\n",
            "📈 PERFORMANCE RESULTS:\n",
            "   • Image Model:\n",
            "     - Accuracy:  0.6360\n",
            "     - Precision: 0.6303\n",
            "     - Recall:    0.6360\n",
            "     - F1 Score:  0.6293\n",
            "   • Text Model:\n",
            "     - Accuracy:  0.8240\n",
            "     - Precision: 0.8385\n",
            "     - Recall:    0.8240\n",
            "     - F1 Score:  0.8274\n",
            "   • Ensemble Model:\n",
            "     - Accuracy:  0.7800\n",
            "     - Precision: 0.7845\n",
            "     - Recall:    0.7800\n",
            "     - F1 Score:  0.7781\n",
            "\n",
            "🎯 CROSS-VALIDATION RESULTS:\n",
            "   • Image Model CV: 0.6500 (+/- 0.0143)\n",
            "   • Text Model CV:  0.8408 (+/- 0.0323)\n",
            "\n",
            "💾 SAVED COMPONENTS:\n",
            "   • Models: image_model.pkl, text_model.pkl\n",
            "   • Preprocessors: label_encoder.pkl, scaler.pkl, tfidf_vectorizer.pkl\n",
            "   • Configuration: ensemble_config.pkl, evaluation_results.pkl\n",
            "\n",
            "✅ BEST PERFORMING MODEL: Text Model\n",
            "   • Best Accuracy: 0.8240\n",
            "\n",
            "🚀 MODEL IS READY FOR DEPLOYMENT!\n",
            "   Use predict_new_document(image_path, ocr_text) for new predictions\n",
            "============================================================\n"
          ]
        }
      ]
    }
  ]
}